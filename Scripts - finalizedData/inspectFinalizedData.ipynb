{
 "cells": [
  {
   "cell_type": "code",
   "id": "initial_id",
   "metadata": {
    "collapsed": true,
    "ExecuteTime": {
     "end_time": "2025-10-20T02:33:34.856563Z",
     "start_time": "2025-10-20T02:33:34.846307Z"
    }
   },
   "source": [
    "import pandas as pd\n",
    "import numpy as np"
   ],
   "outputs": [],
   "execution_count": 19
  },
  {
   "metadata": {
    "ExecuteTime": {
     "end_time": "2025-10-20T02:33:34.919553Z",
     "start_time": "2025-10-20T02:33:34.870316Z"
    }
   },
   "cell_type": "code",
   "source": [
    "finalizedData = pd.read_csv(\"../finalizedData/finalizedData.csv\")\n",
    "finalizedData = finalizedData.dropna(subset=[\"cal_availability_rate\"])\n",
    "print(finalizedData.isna().sum())\n",
    "finalizedData.to_csv(\"../finalizedData/finalizedData.csv\", index=False)\n",
    "#print(finalizedData.head())"
   ],
   "id": "6aa3162250d905d9",
   "outputs": [
    {
     "name": "stdout",
     "output_type": "stream",
     "text": [
      "Unnamed: 0                0\n",
      "host_is_superhost         0\n",
      "host_listings_count       0\n",
      "neighbourhood_cleansed    0\n",
      "latitude                  0\n",
      "longitude                 0\n",
      "property_type             0\n",
      "room_type                 0\n",
      "accommodates              0\n",
      "bathrooms                 0\n",
      "bedrooms                  0\n",
      "beds                      0\n",
      "availability_30           0\n",
      "availability_60           0\n",
      "availability_90           0\n",
      "availability_365          0\n",
      "review_scores_rating      0\n",
      "instant_bookable          0\n",
      "amenities_count           0\n",
      "price_category            0\n",
      "cal_availability_rate     0\n",
      "review_count              0\n",
      "dtype: int64\n"
     ]
    }
   ],
   "execution_count": 20
  }
 ],
 "metadata": {
  "kernelspec": {
   "display_name": "Python 3",
   "language": "python",
   "name": "python3"
  },
  "language_info": {
   "codemirror_mode": {
    "name": "ipython",
    "version": 2
   },
   "file_extension": ".py",
   "mimetype": "text/x-python",
   "name": "python",
   "nbconvert_exporter": "python",
   "pygments_lexer": "ipython2",
   "version": "2.7.6"
  }
 },
 "nbformat": 4,
 "nbformat_minor": 5
}
