{
 "cells": [
  {
   "cell_type": "code",
   "id": "initial_id",
   "metadata": {
    "collapsed": true,
    "ExecuteTime": {
     "end_time": "2025-10-21T13:41:48.971752Z",
     "start_time": "2025-10-21T13:41:48.236541Z"
    }
   },
   "source": [
    "import pandas as pd\n",
    "import numpy as np"
   ],
   "outputs": [],
   "execution_count": 1
  },
  {
   "metadata": {
    "ExecuteTime": {
     "end_time": "2025-10-21T13:41:49.484268Z",
     "start_time": "2025-10-21T13:41:48.988028Z"
    }
   },
   "cell_type": "code",
   "source": [
    "import pandas as pd\n",
    "import numpy as np\n",
    "\n",
    "cleanedCalendar = pd.read_csv(\"../cleanedData/cleanedCalendar.csv\")\n",
    "cleanedListings = pd.read_csv(\"../cleanedData/cleanedListings.csv\")\n",
    "cleanedReviews = pd.read_csv(\"../cleanedData/cleanedReviews.csv\")\n",
    "\n",
    "for df in [cleanedCalendar, cleanedListings, cleanedReviews]:\n",
    "    df.columns = df.columns.str.strip().str.lower().str.replace(r\"\\s+\", \"_\", regex=True)\n",
    "\n",
    "# Listings is your base since each listing_id appears in the other two\n",
    "finalizedData = cleanedListings.copy()\n",
    "\n",
    "# Merge Calendar info\n",
    "if \"listing_id\" in cleanedCalendar.columns:\n",
    "    cleanedCalendar[\"listing_id\"] = pd.to_numeric(cleanedCalendar[\"listing_id\"], errors=\"coerce\")\n",
    "    finalizedData = finalizedData.merge(\n",
    "        cleanedCalendar.groupby(\"listing_id\").agg(\n",
    "            cal_availability_rate=(\"available\", \"mean\") if \"available\" in cleanedCalendar.columns else (\"listing_id\",\n",
    "                                                                                                        \"size\")\n",
    "        ).reset_index(),\n",
    "        left_on=\"id\", right_on=\"listing_id\", how=\"left\"\n",
    "    ).drop(columns=[\"listing_id\"], errors=\"ignore\")\n",
    "\n",
    "# Merge Reviews info\n",
    "if \"listing_id\" in cleanedReviews.columns:\n",
    "    cleanedReviews[\"listing_id\"] = pd.to_numeric(cleanedReviews[\"listing_id\"], errors=\"coerce\")\n",
    "    finalizedData = finalizedData.merge(\n",
    "        cleanedReviews.groupby(\"listing_id\").agg(\n",
    "            review_count=(\"id\", \"count\") if \"id\" in cleanedReviews.columns else (\"listing_id\", \"size\")\n",
    "        ).reset_index(),\n",
    "        left_on=\"id\", right_on=\"listing_id\", how=\"left\"\n",
    "    ).drop(columns=[\"listing_id\"], errors=\"ignore\")\n",
    "\n",
    "drop_cols = [\n",
    "    \"id\", \"price\", \"cal_mean_price\", \"cal_median_price\",\n",
    "    \"cal_min_price\", \"cal_max_price\", \"cal_priced_days\",\n",
    "    \"first_review_date\", \"last_review_date\", \"avg_comment_len\", \"amenities\",\n",
    "    \"availability_30\", \"availability_60\", \"availability_90\", \"availability_365\"\n",
    "]\n",
    "finalizedData = finalizedData.drop(columns=[c for c in drop_cols if c in finalizedData.columns], errors=\"ignore\")\n",
    "\n",
    "finalizedData.to_csv(\"../finalizedData/finalizedData.csv\", index=False)\n",
    "print(\"✅ Final dataset saved as finalizedData/finalizedData.csv\")\n",
    "\n",
    "print(finalizedData.shape)\n",
    "print(finalizedData.columns.tolist())"
   ],
   "id": "610c7c35c5a4fadb",
   "outputs": [
    {
     "name": "stdout",
     "output_type": "stream",
     "text": [
      "✅ Final dataset saved as finalizedData/finalizedData.csv\n",
      "(2749, 17)\n",
      "['host_is_superhost', 'host_listings_count', 'neighbourhood_cleansed', 'latitude', 'longitude', 'property_type', 'room_type', 'accommodates', 'bathrooms', 'bedrooms', 'beds', 'review_scores_rating', 'instant_bookable', 'amenities_count', 'price_category', 'cal_availability_rate', 'review_count']\n"
     ]
    }
   ],
   "execution_count": 2
  }
 ],
 "metadata": {
  "kernelspec": {
   "display_name": "Python 3",
   "language": "python",
   "name": "python3"
  },
  "language_info": {
   "codemirror_mode": {
    "name": "ipython",
    "version": 2
   },
   "file_extension": ".py",
   "mimetype": "text/x-python",
   "name": "python",
   "nbconvert_exporter": "python",
   "pygments_lexer": "ipython2",
   "version": "2.7.6"
  }
 },
 "nbformat": 4,
 "nbformat_minor": 5
}
