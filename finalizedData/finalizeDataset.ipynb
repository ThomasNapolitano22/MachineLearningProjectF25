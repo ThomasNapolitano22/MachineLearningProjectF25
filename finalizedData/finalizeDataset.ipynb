{
 "cells": [
  {
   "cell_type": "code",
   "id": "initial_id",
   "metadata": {
    "collapsed": true,
    "ExecuteTime": {
     "end_time": "2025-10-25T02:12:21.880780Z",
     "start_time": "2025-10-25T02:12:21.876123Z"
    }
   },
   "source": [
    "import pandas as pd\n",
    "import numpy as np"
   ],
   "outputs": [],
   "execution_count": 44
  },
  {
   "metadata": {
    "ExecuteTime": {
     "end_time": "2025-10-25T02:12:22.397418Z",
     "start_time": "2025-10-25T02:12:21.887278Z"
    }
   },
   "cell_type": "code",
   "source": [
    "cleanedCalendar = pd.read_csv(\"../cleanedData/cleanedCalendar.csv\")\n",
    "cleanedListings = pd.read_csv(\"../cleanedData/cleanedListings.csv\")\n",
    "cleanedReviews = pd.read_csv(\"../cleanedData/cleanedReviews.csv\")\n",
    "\n",
    "# we will merge everything else into listings, since listings has the connecting column in a way... the listing id\n",
    "finalizedData = cleanedListings.copy()\n",
    "\n",
    "# first lets merge the calendar info into our finalizedData\n",
    "# we will also create another column that tells us how often the airbnb is available percentage wise so that its easier to read and look at!\n",
    "finalizedData = finalizedData.merge(\n",
    "    cleanedCalendar.groupby(\"listing_id\").agg(\n",
    "        cal_availability_rate=(\"available\", \"mean\")\n",
    "    ).reset_index(),\n",
    "    left_on=\"id\", right_on=\"listing_id\", how=\"left\"\n",
    "    ).drop(columns=[\"listing_id\"], errors=\"ignore\")\n",
    "\n",
    "# now we will merge reviews and create a column that counts the number of reviews per listing...\n",
    "finalizedData = finalizedData.merge(\n",
    "    cleanedReviews.groupby(\"listing_id\").agg(\n",
    "        review_count=(\"id\", \"count\")\n",
    "    ).reset_index(),\n",
    "    left_on=\"id\", right_on=\"listing_id\", how=\"left\"\n",
    "    ).drop(columns=[\"listing_id\"], errors=\"ignore\")\n",
    "\n",
    "drop_cols = [\n",
    "    \"id\", \"price\", \"cal_mean_price\", \"cal_median_price\",\n",
    "    \"cal_min_price\", \"cal_max_price\", \"cal_priced_days\",\n",
    "    \"first_review_date\", \"last_review_date\", \"avg_comment_len\", \"amenities\"\n",
    "]\n",
    "\n",
    "finalizedData = finalizedData.drop(columns=drop_cols, errors=\"ignore\")\n",
    "finalizedData.to_csv(\"../finalizedData/finalizedData.csv\", index=False)\n",
    "\n",
    "\n",
    "print(finalizedData.shape)\n",
    "print(finalizedData.columns.tolist())"
   ],
   "id": "610c7c35c5a4fadb",
   "outputs": [
    {
     "name": "stdout",
     "output_type": "stream",
     "text": [
      "(2749, 21)\n",
      "['host_is_superhost', 'host_listings_count', 'neighbourhood_cleansed', 'latitude', 'longitude', 'property_type', 'room_type', 'accommodates', 'bathrooms', 'bedrooms', 'beds', 'availability_30', 'availability_60', 'availability_90', 'availability_365', 'review_scores_rating', 'instant_bookable', 'amenities_count', 'price_category', 'cal_availability_rate', 'review_count']\n"
     ]
    }
   ],
   "execution_count": 45
  }
 ],
 "metadata": {
  "kernelspec": {
   "display_name": "Python 3",
   "language": "python",
   "name": "python3"
  },
  "language_info": {
   "codemirror_mode": {
    "name": "ipython",
    "version": 2
   },
   "file_extension": ".py",
   "mimetype": "text/x-python",
   "name": "python",
   "nbconvert_exporter": "python",
   "pygments_lexer": "ipython2",
   "version": "2.7.6"
  }
 },
 "nbformat": 4,
 "nbformat_minor": 5
}
