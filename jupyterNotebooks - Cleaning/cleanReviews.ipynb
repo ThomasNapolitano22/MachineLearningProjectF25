{
 "cells": [
  {
   "cell_type": "code",
   "id": "initial_id",
   "metadata": {
    "collapsed": true,
    "ExecuteTime": {
     "end_time": "2025-10-25T01:21:00.740666Z",
     "start_time": "2025-10-25T01:21:00.277675Z"
    }
   },
   "source": "import pandas as pd\n",
   "outputs": [],
   "execution_count": 1
  },
  {
   "metadata": {
    "ExecuteTime": {
     "end_time": "2025-10-25T01:21:00.991625Z",
     "start_time": "2025-10-25T01:21:00.746772Z"
    }
   },
   "cell_type": "code",
   "source": [
    "reviews = pd.read_csv('../originalData/reviews.csv')\n",
    "#Lets take a quick look at the reviews csv\n",
    "#since most of this file wont be used in the final csv data then cleanup is easy!\n",
    "print(reviews.info())\n"
   ],
   "id": "d201724268974400",
   "outputs": [
    {
     "name": "stdout",
     "output_type": "stream",
     "text": [
      "<class 'pandas.core.frame.DataFrame'>\n",
      "RangeIndex: 68275 entries, 0 to 68274\n",
      "Data columns (total 6 columns):\n",
      " #   Column         Non-Null Count  Dtype \n",
      "---  ------         --------------  ----- \n",
      " 0   listing_id     68275 non-null  int64 \n",
      " 1   id             68275 non-null  int64 \n",
      " 2   date           68275 non-null  object\n",
      " 3   reviewer_id    68275 non-null  int64 \n",
      " 4   reviewer_name  68275 non-null  object\n",
      " 5   comments       68222 non-null  object\n",
      "dtypes: int64(3), object(3)\n",
      "memory usage: 3.1+ MB\n",
      "None\n"
     ]
    }
   ],
   "execution_count": 2
  },
  {
   "metadata": {
    "ExecuteTime": {
     "end_time": "2025-10-25T01:21:01.005878Z",
     "start_time": "2025-10-25T01:21:00.995503Z"
    }
   },
   "cell_type": "code",
   "source": [
    "#convert date to date time using the same process as in cleanCalendar\n",
    "reviews[\"date\"] = pd.to_datetime(reviews[\"date\"])"
   ],
   "id": "a68c1dd2374dde41",
   "outputs": [],
   "execution_count": 3
  },
  {
   "metadata": {
    "ExecuteTime": {
     "end_time": "2025-10-25T01:21:01.018343Z",
     "start_time": "2025-10-25T01:21:01.011269Z"
    }
   },
   "cell_type": "code",
   "source": [
    "# If the listing id and the comment id is the exact same then its a duplicate, so drop it.\n",
    "reviews = reviews.drop_duplicates(subset=[\"listing_id\", \"id\"], keep=\"last\")"
   ],
   "id": "549d2c837842ae5e",
   "outputs": [
    {
     "name": "stdout",
     "output_type": "stream",
     "text": [
      "✅ Removed 0 duplicate rows. Remaining: 68275\n"
     ]
    }
   ],
   "execution_count": 4
  },
  {
   "metadata": {
    "ExecuteTime": {
     "end_time": "2025-10-25T01:21:01.374834Z",
     "start_time": "2025-10-25T01:21:01.035731Z"
    }
   },
   "cell_type": "code",
   "source": [
    "reviews = reviews.dropna()\n",
    "reviews.to_csv(\"../cleanedData/cleanedReviews.csv\", index=False)"
   ],
   "id": "fe9053aa13bf30dd",
   "outputs": [],
   "execution_count": 5
  }
 ],
 "metadata": {
  "kernelspec": {
   "display_name": "Python 3",
   "language": "python",
   "name": "python3"
  },
  "language_info": {
   "codemirror_mode": {
    "name": "ipython",
    "version": 2
   },
   "file_extension": ".py",
   "mimetype": "text/x-python",
   "name": "python",
   "nbconvert_exporter": "python",
   "pygments_lexer": "ipython2",
   "version": "2.7.6"
  }
 },
 "nbformat": 4,
 "nbformat_minor": 5
}
