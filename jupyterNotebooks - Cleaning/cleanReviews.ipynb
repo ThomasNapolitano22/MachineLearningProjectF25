{
 "cells": [
  {
   "cell_type": "code",
   "id": "initial_id",
   "metadata": {
    "collapsed": true,
    "ExecuteTime": {
     "end_time": "2025-10-16T05:50:08.455489Z",
     "start_time": "2025-10-16T05:50:08.184759Z"
    }
   },
   "source": "import pandas as pd\n",
   "outputs": [],
   "execution_count": 2
  },
  {
   "metadata": {
    "ExecuteTime": {
     "end_time": "2025-10-16T05:50:09.877362Z",
     "start_time": "2025-10-16T05:50:09.710929Z"
    }
   },
   "cell_type": "code",
   "source": "reviews = pd.read_csv('../originalData/reviews.csv')\n",
   "id": "d201724268974400",
   "outputs": [],
   "execution_count": 3
  }
 ],
 "metadata": {
  "kernelspec": {
   "display_name": "Python 3",
   "language": "python",
   "name": "python3"
  },
  "language_info": {
   "codemirror_mode": {
    "name": "ipython",
    "version": 2
   },
   "file_extension": ".py",
   "mimetype": "text/x-python",
   "name": "python",
   "nbconvert_exporter": "python",
   "pygments_lexer": "ipython2",
   "version": "2.7.6"
  }
 },
 "nbformat": 4,
 "nbformat_minor": 5
}
