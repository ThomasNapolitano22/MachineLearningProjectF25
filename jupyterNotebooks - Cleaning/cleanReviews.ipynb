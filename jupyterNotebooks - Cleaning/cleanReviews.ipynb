{
 "cells": [
  {
   "cell_type": "code",
   "id": "initial_id",
   "metadata": {
    "collapsed": true,
    "ExecuteTime": {
     "end_time": "2025-10-16T18:00:14.764834Z",
     "start_time": "2025-10-16T18:00:14.447516Z"
    }
   },
   "source": "import pandas as pd\n",
   "outputs": [],
   "execution_count": 1
  },
  {
   "metadata": {
    "ExecuteTime": {
     "end_time": "2025-10-16T18:00:15.008113Z",
     "start_time": "2025-10-16T18:00:14.770056Z"
    }
   },
   "cell_type": "code",
   "source": [
    "reviews = pd.read_csv('../originalData/reviews.csv')\n",
    "print(reviews.info())\n"
   ],
   "id": "d201724268974400",
   "outputs": [
    {
     "name": "stdout",
     "output_type": "stream",
     "text": [
      "<class 'pandas.core.frame.DataFrame'>\n",
      "RangeIndex: 68275 entries, 0 to 68274\n",
      "Data columns (total 6 columns):\n",
      " #   Column         Non-Null Count  Dtype \n",
      "---  ------         --------------  ----- \n",
      " 0   listing_id     68275 non-null  int64 \n",
      " 1   id             68275 non-null  int64 \n",
      " 2   date           68275 non-null  object\n",
      " 3   reviewer_id    68275 non-null  int64 \n",
      " 4   reviewer_name  68275 non-null  object\n",
      " 5   comments       68222 non-null  object\n",
      "dtypes: int64(3), object(3)\n",
      "memory usage: 3.1+ MB\n",
      "None\n"
     ]
    }
   ],
   "execution_count": 2
  }
 ],
 "metadata": {
  "kernelspec": {
   "display_name": "Python 3",
   "language": "python",
   "name": "python3"
  },
  "language_info": {
   "codemirror_mode": {
    "name": "ipython",
    "version": 2
   },
   "file_extension": ".py",
   "mimetype": "text/x-python",
   "name": "python",
   "nbconvert_exporter": "python",
   "pygments_lexer": "ipython2",
   "version": "2.7.6"
  }
 },
 "nbformat": 4,
 "nbformat_minor": 5
}
