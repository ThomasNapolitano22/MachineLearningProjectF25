{
 "cells": [
  {
   "cell_type": "code",
   "id": "initial_id",
   "metadata": {
    "collapsed": true,
    "ExecuteTime": {
     "end_time": "2025-10-16T05:48:15.218140Z",
     "start_time": "2025-10-16T05:48:15.215699Z"
    }
   },
   "source": "import pandas as pd",
   "outputs": [],
   "execution_count": 14
  },
  {
   "metadata": {
    "ExecuteTime": {
     "end_time": "2025-10-16T05:48:15.330140Z",
     "start_time": "2025-10-16T05:48:15.232880Z"
    }
   },
   "cell_type": "code",
   "source": "listings = pd.read_csv('../originalData/listings.csv')",
   "id": "c29675e46c8d867a",
   "outputs": [],
   "execution_count": 15
  },
  {
   "metadata": {
    "ExecuteTime": {
     "end_time": "2025-10-16T05:48:15.340889Z",
     "start_time": "2025-10-16T05:48:15.337870Z"
    }
   },
   "cell_type": "code",
   "source": "print(listings.head())",
   "id": "4fe7305fcad6f377",
   "outputs": [
    {
     "name": "stdout",
     "output_type": "stream",
     "text": [
      "         id                            listing_url       scrape_id  \\\n",
      "0  12147973  https://www.airbnb.com/rooms/12147973  20160906204935   \n",
      "1   3075044   https://www.airbnb.com/rooms/3075044  20160906204935   \n",
      "2      6976      https://www.airbnb.com/rooms/6976  20160906204935   \n",
      "3   1436513   https://www.airbnb.com/rooms/1436513  20160906204935   \n",
      "4   7651065   https://www.airbnb.com/rooms/7651065  20160906204935   \n",
      "\n",
      "  last_scraped                                           name  \\\n",
      "0   2016-09-07                     Sunny Bungalow in the City   \n",
      "1   2016-09-07              Charming room in pet friendly apt   \n",
      "2   2016-09-07               Mexican Folk Art Haven in Boston   \n",
      "3   2016-09-07  Spacious Sunny Bedroom Suite in Historic Home   \n",
      "4   2016-09-07                            Come Home to Boston   \n",
      "\n",
      "                                             summary  \\\n",
      "0  Cozy, sunny, family home.  Master bedroom high...   \n",
      "1  Charming and quiet room in a second floor 1910...   \n",
      "2  Come stay with a friendly, middle-aged guy in ...   \n",
      "3  Come experience the comforts of home away from...   \n",
      "4  My comfy, clean and relaxing home is one block...   \n",
      "\n",
      "                                               space  \\\n",
      "0  The house has an open and cozy feel at the sam...   \n",
      "1  Small but cozy and quite room with a full size...   \n",
      "2  Come stay with a friendly, middle-aged guy in ...   \n",
      "3  Most places you find in Boston are small howev...   \n",
      "4  Clean, attractive, private room, one block fro...   \n",
      "\n",
      "                                         description experiences_offered  \\\n",
      "0  Cozy, sunny, family home.  Master bedroom high...                none   \n",
      "1  Charming and quiet room in a second floor 1910...                none   \n",
      "2  Come stay with a friendly, middle-aged guy in ...                none   \n",
      "3  Come experience the comforts of home away from...                none   \n",
      "4  My comfy, clean and relaxing home is one block...                none   \n",
      "\n",
      "                               neighborhood_overview  ... review_scores_value  \\\n",
      "0  Roslindale is quiet, convenient and friendly. ...  ...                 NaN   \n",
      "1  The room is in Roslindale, a diverse and prima...  ...                 9.0   \n",
      "2  The LOCATION: Roslindale is a safe and diverse...  ...                10.0   \n",
      "3  Roslindale is a lovely little neighborhood loc...  ...                10.0   \n",
      "4  I love the proximity to downtown, the neighbor...  ...                10.0   \n",
      "\n",
      "  requires_license license jurisdiction_names instant_bookable  \\\n",
      "0                f     NaN                NaN                f   \n",
      "1                f     NaN                NaN                t   \n",
      "2                f     NaN                NaN                f   \n",
      "3                f     NaN                NaN                f   \n",
      "4                f     NaN                NaN                f   \n",
      "\n",
      "  cancellation_policy require_guest_profile_picture  \\\n",
      "0            moderate                             f   \n",
      "1            moderate                             f   \n",
      "2            moderate                             t   \n",
      "3            moderate                             f   \n",
      "4            flexible                             f   \n",
      "\n",
      "  require_guest_phone_verification calculated_host_listings_count  \\\n",
      "0                                f                              1   \n",
      "1                                f                              1   \n",
      "2                                f                              1   \n",
      "3                                f                              1   \n",
      "4                                f                              1   \n",
      "\n",
      "   reviews_per_month  \n",
      "0                NaN  \n",
      "1               1.30  \n",
      "2               0.47  \n",
      "3               1.00  \n",
      "4               2.25  \n",
      "\n",
      "[5 rows x 95 columns]\n"
     ]
    }
   ],
   "execution_count": 16
  }
 ],
 "metadata": {
  "kernelspec": {
   "display_name": "Python 3",
   "language": "python",
   "name": "python3"
  },
  "language_info": {
   "codemirror_mode": {
    "name": "ipython",
    "version": 2
   },
   "file_extension": ".py",
   "mimetype": "text/x-python",
   "name": "python",
   "nbconvert_exporter": "python",
   "pygments_lexer": "ipython2",
   "version": "2.7.6"
  }
 },
 "nbformat": 4,
 "nbformat_minor": 5
}
