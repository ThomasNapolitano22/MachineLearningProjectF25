{
 "cells": [
  {
   "cell_type": "code",
   "id": "initial_id",
   "metadata": {
    "collapsed": true,
    "ExecuteTime": {
     "end_time": "2025-10-25T01:46:04.539394Z",
     "start_time": "2025-10-25T01:46:04.531806Z"
    }
   },
   "source": [
    "import pandas as pd\n",
    "import numpy as np"
   ],
   "outputs": [],
   "execution_count": 127
  },
  {
   "metadata": {
    "ExecuteTime": {
     "end_time": "2025-10-25T01:46:04.752575Z",
     "start_time": "2025-10-25T01:46:04.546099Z"
    }
   },
   "cell_type": "code",
   "source": [
    "listings = pd.read_csv('../originalData/listings.csv')\n",
    "#columns im most likely keeping\n",
    "key_columns = [\n",
    "    \"id\", \"price\", \"room_type\", \"property_type\", \"accommodates\",\n",
    "    \"bedrooms\", \"beds\", \"bathrooms\", \"amenities\",\n",
    "    \"neighbourhood_cleansed\", \"latitude\", \"longitude\",\n",
    "    \"host_is_superhost\", \"host_listings_count\", \"instant_bookable\",\n",
    "    \"review_scores_rating\",\n",
    "    \"availability_30\", \"availability_60\", \"availability_90\", \"availability_365\"\n",
    "    ]\n",
    "\n",
    "listings = pd.read_csv(\n",
    "    '../originalData/listings.csv',\n",
    "    usecols=key_columns\n",
    ")\n",
    "\n",
    "print(listings.head())"
   ],
   "id": "c29675e46c8d867a",
   "outputs": [
    {
     "name": "stdout",
     "output_type": "stream",
     "text": [
      "         id host_is_superhost  host_listings_count neighbourhood_cleansed  \\\n",
      "0  12147973                 f                    1             Roslindale   \n",
      "1   3075044                 f                    1             Roslindale   \n",
      "2      6976                 t                    1             Roslindale   \n",
      "3   1436513                 f                    1             Roslindale   \n",
      "4   7651065                 t                    1             Roslindale   \n",
      "\n",
      "    latitude  longitude property_type        room_type  accommodates  \\\n",
      "0  42.282619 -71.133068         House  Entire home/apt             4   \n",
      "1  42.286241 -71.134374     Apartment     Private room             2   \n",
      "2  42.292438 -71.135765     Apartment     Private room             2   \n",
      "3  42.281106 -71.121021         House     Private room             4   \n",
      "4  42.284512 -71.136258         House     Private room             2   \n",
      "\n",
      "   bathrooms  bedrooms  beds  \\\n",
      "0        1.5       2.0   3.0   \n",
      "1        1.0       1.0   1.0   \n",
      "2        1.0       1.0   1.0   \n",
      "3        1.0       1.0   2.0   \n",
      "4        1.5       1.0   2.0   \n",
      "\n",
      "                                           amenities    price  \\\n",
      "0  {TV,\"Wireless Internet\",Kitchen,\"Free Parking ...  $250.00   \n",
      "1  {TV,Internet,\"Wireless Internet\",\"Air Conditio...   $65.00   \n",
      "2  {TV,\"Cable TV\",\"Wireless Internet\",\"Air Condit...   $65.00   \n",
      "3  {TV,Internet,\"Wireless Internet\",\"Air Conditio...   $75.00   \n",
      "4  {Internet,\"Wireless Internet\",\"Air Conditionin...   $79.00   \n",
      "\n",
      "   availability_30  availability_60  availability_90  availability_365  \\\n",
      "0                0                0                0                 0   \n",
      "1               26               54               84               359   \n",
      "2               19               46               61               319   \n",
      "3                6               16               26                98   \n",
      "4               13               34               59               334   \n",
      "\n",
      "   review_scores_rating instant_bookable  \n",
      "0                   NaN                f  \n",
      "1                  94.0                t  \n",
      "2                  98.0                f  \n",
      "3                 100.0                f  \n",
      "4                  99.0                f  \n"
     ]
    }
   ],
   "execution_count": 128
  },
  {
   "metadata": {
    "ExecuteTime": {
     "end_time": "2025-10-25T01:46:04.765981Z",
     "start_time": "2025-10-25T01:46:04.756709Z"
    }
   },
   "cell_type": "code",
   "source": [
    "#Clean up our price column, convert it to a float\n",
    "listings[\"price\"] = (listings[\"price\"]\n",
    "                     .astype(str).\n",
    "                     str.replace(\",\", \"\").\n",
    "                     str.replace(\"$\", \"\").\n",
    "                     replace(\"\", np.nan)\n",
    "                     .astype(float))\n",
    "print(listings[\"price\"].info())\n",
    "\n",
    "#keep only the prices that make sense\n",
    "listings = listings.dropna(subset=[\"price\"])\n",
    "listings = listings[listings[\"price\"] > 0]\n",
    "\n"
   ],
   "id": "99ed8903f4bccce6",
   "outputs": [
    {
     "name": "stdout",
     "output_type": "stream",
     "text": [
      "<class 'pandas.core.series.Series'>\n",
      "RangeIndex: 3585 entries, 0 to 3584\n",
      "Series name: price\n",
      "Non-Null Count  Dtype  \n",
      "--------------  -----  \n",
      "3585 non-null   float64\n",
      "dtypes: float64(1)\n",
      "memory usage: 28.1 KB\n",
      "None\n"
     ]
    }
   ],
   "execution_count": 129
  },
  {
   "metadata": {
    "ExecuteTime": {
     "end_time": "2025-10-25T01:46:04.789722Z",
     "start_time": "2025-10-25T01:46:04.770498Z"
    }
   },
   "cell_type": "code",
   "source": [
    "#Lets count how amenities are listed for each airbnb\n",
    "def count_amenities(row):\n",
    "    #there are no amenities if the amenities list is empty\n",
    "    if row in [\"nan\", \"None\", \"none\"]:\n",
    "        return 0\n",
    "    #the way its currently organized is like [tv, wifi, ...] so we need to split each individual amenity up\n",
    "    parts = row.split(\",\")\n",
    "\n",
    "    #count how many we split up\n",
    "    count = len([amenity for amenity in parts if amenity.strip()])\n",
    "    return count\n",
    "#creates a new column with the amenities count\n",
    "listings[\"amenities_count\"] = (\n",
    "    listings[\"amenities\"]\n",
    "        .astype(str)\n",
    "        #remember there are brackets around each list of amenities [...] remove those asap\n",
    "        .str.replace(r\"^\\[|\\]\", \"\", regex=True)\n",
    "        .apply(count_amenities)\n",
    ")\n",
    "print(listings[\"amenities_count\"].info())\n",
    "print(listings[[\"amenities\", \"amenities_count\"]].head())"
   ],
   "id": "58a3308dd6284178",
   "outputs": [
    {
     "name": "stdout",
     "output_type": "stream",
     "text": [
      "<class 'pandas.core.series.Series'>\n",
      "RangeIndex: 3585 entries, 0 to 3584\n",
      "Series name: amenities_count\n",
      "Non-Null Count  Dtype\n",
      "--------------  -----\n",
      "3585 non-null   int64\n",
      "dtypes: int64(1)\n",
      "memory usage: 28.1 KB\n",
      "None\n",
      "                                           amenities  amenities_count\n",
      "0  {TV,\"Wireless Internet\",Kitchen,\"Free Parking ...               15\n",
      "1  {TV,Internet,\"Wireless Internet\",\"Air Conditio...               21\n",
      "2  {TV,\"Cable TV\",\"Wireless Internet\",\"Air Condit...               18\n",
      "3  {TV,Internet,\"Wireless Internet\",\"Air Conditio...               23\n",
      "4  {Internet,\"Wireless Internet\",\"Air Conditionin...               14\n"
     ]
    }
   ],
   "execution_count": 130
  },
  {
   "metadata": {
    "ExecuteTime": {
     "end_time": "2025-10-25T01:46:04.799397Z",
     "start_time": "2025-10-25T01:46:04.793976Z"
    }
   },
   "cell_type": "code",
   "source": [
    "#the is_superhost and instant_bookable columns both arent booleans, lets make them booleans\n",
    "listings[\"host_is_superhost\"] = listings[\"host_is_superhost\"].map({\n",
    "    't' : True,\n",
    "    'f' : False\n",
    "})\n",
    "listings[\"instant_bookable\"] = listings[\"instant_bookable\"].map({\n",
    "    't' : True,\n",
    "    'f' : False\n",
    "})\n",
    "\n",
    "print(listings[[\"host_is_superhost\", \"instant_bookable\"]].info())"
   ],
   "id": "15e7c31dd9d2c0dc",
   "outputs": [
    {
     "name": "stdout",
     "output_type": "stream",
     "text": [
      "<class 'pandas.core.frame.DataFrame'>\n",
      "RangeIndex: 3585 entries, 0 to 3584\n",
      "Data columns (total 2 columns):\n",
      " #   Column             Non-Null Count  Dtype\n",
      "---  ------             --------------  -----\n",
      " 0   host_is_superhost  3585 non-null   bool \n",
      " 1   instant_bookable   3585 non-null   bool \n",
      "dtypes: bool(2)\n",
      "memory usage: 7.1 KB\n",
      "None\n"
     ]
    }
   ],
   "execution_count": 131
  },
  {
   "metadata": {
    "ExecuteTime": {
     "end_time": "2025-10-25T01:46:04.804933Z",
     "start_time": "2025-10-25T01:46:04.801839Z"
    }
   },
   "cell_type": "code",
   "source": [
    "#before we get to the end lets make sure all of our columns that contain numeric values are actually all numeric values\n",
    "numeric_columns = [\n",
    "    \"accommodates\", \"bedrooms\", \"beds\", \"latitude\", \"longitude\",\n",
    "    \"host_listings_count\", \"review_scores_rating\",\n",
    "    \"availability_30\", \"availability_60\", \"availability_90\", \"availability_365\"\n",
    "]\n",
    "\n",
    "for column in numeric_columns:\n",
    "    listings[c] = pd.to_numeric(listings[c], errors=\"coerce\")"
   ],
   "id": "9c7c722a3e74f682",
   "outputs": [],
   "execution_count": 132
  },
  {
   "metadata": {
    "ExecuteTime": {
     "end_time": "2025-10-25T01:46:04.810877Z",
     "start_time": "2025-10-25T01:46:04.808398Z"
    }
   },
   "cell_type": "code",
   "source": [
    "#remove any duplicate listing ids\n",
    "listings = listings.drop_duplicates(subset=[\"id\"], keep=\"last\")"
   ],
   "id": "8f685ca56f10f62b",
   "outputs": [],
   "execution_count": 133
  },
  {
   "metadata": {
    "ExecuteTime": {
     "end_time": "2025-10-25T01:46:04.818517Z",
     "start_time": "2025-10-25T01:46:04.814069Z"
    }
   },
   "cell_type": "code",
   "source": [
    "#lets sort our airbnb prices into L / M / H labels using mean bin smoothing!!!!\n",
    "\n",
    "# Sort prices and split into 3 equal bins\n",
    "sorted_price = listings['price'].sort_values().reset_index(drop=True)\n",
    "bins = np.array_split(sorted_price.to_numpy(), 3)\n",
    "\n",
    "# Compute mean price per bin\n",
    "bin_means = [float(b.mean()) for b in bins]\n",
    "\n",
    "# Define bin edges\n",
    "bin_edges = [-np.inf, bins[0].max(), bins[1].max(), np.inf]\n",
    "\n",
    "# Assign categorical labels\n",
    "labels = ['Budget', 'Average', 'Expensive']\n",
    "listings['price_category'] = pd.cut(\n",
    "    x=listings['price'],\n",
    "    bins=bin_edges,\n",
    "    labels=labels,\n",
    "    include_lowest=True\n",
    ")"
   ],
   "id": "5609601e366631ad",
   "outputs": [],
   "execution_count": 134
  },
  {
   "metadata": {
    "ExecuteTime": {
     "end_time": "2025-10-25T01:46:04.844548Z",
     "start_time": "2025-10-25T01:46:04.821025Z"
    }
   },
   "cell_type": "code",
   "source": [
    "listings = listings.dropna()\n",
    "\n",
    "listings.to_csv(\"../cleanedData/cleanedListings.csv\", index=False)"
   ],
   "id": "3a4b545fb340ca3f",
   "outputs": [],
   "execution_count": 135
  }
 ],
 "metadata": {
  "kernelspec": {
   "display_name": "Python 3",
   "language": "python",
   "name": "python3"
  },
  "language_info": {
   "codemirror_mode": {
    "name": "ipython",
    "version": 2
   },
   "file_extension": ".py",
   "mimetype": "text/x-python",
   "name": "python",
   "nbconvert_exporter": "python",
   "pygments_lexer": "ipython2",
   "version": "2.7.6"
  }
 },
 "nbformat": 4,
 "nbformat_minor": 5
}
