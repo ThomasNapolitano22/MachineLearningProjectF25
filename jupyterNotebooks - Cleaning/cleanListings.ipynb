{
 "cells": [
  {
   "cell_type": "code",
   "id": "initial_id",
   "metadata": {
    "collapsed": true,
    "ExecuteTime": {
     "end_time": "2025-10-20T02:21:48.721312Z",
     "start_time": "2025-10-20T02:21:48.422991Z"
    }
   },
   "source": [
    "import pandas as pd\n",
    "import numpy as np"
   ],
   "outputs": [],
   "execution_count": 1
  },
  {
   "metadata": {
    "ExecuteTime": {
     "end_time": "2025-10-20T02:21:48.924135Z",
     "start_time": "2025-10-20T02:21:48.726899Z"
    }
   },
   "cell_type": "code",
   "source": [
    "listings = pd.read_csv('../originalData/listings.csv')\n",
    "key_columns = [\n",
    "    \"id\", \"price\", \"room_type\", \"property_type\", \"accommodates\",\n",
    "    \"bedrooms\", \"beds\", \"bathrooms\", \"amenities\",\n",
    "    \"neighbourhood_cleansed\", \"latitude\", \"longitude\",\n",
    "    \"host_is_superhost\", \"host_listings_count\", \"instant_bookable\",\n",
    "    \"review_scores_rating\",\n",
    "    \"availability_30\", \"availability_60\", \"availability_90\", \"availability_365\"\n",
    "    ]\n",
    "\n",
    "listings = pd.read_csv(\n",
    "    '../originalData/listings.csv',\n",
    "    usecols=lambda col: col in key_columns\n",
    ")\n",
    "\n",
    "print(listings.head())"
   ],
   "id": "c29675e46c8d867a",
   "outputs": [
    {
     "name": "stdout",
     "output_type": "stream",
     "text": [
      "         id host_is_superhost  host_listings_count neighbourhood_cleansed  \\\n",
      "0  12147973                 f                    1             Roslindale   \n",
      "1   3075044                 f                    1             Roslindale   \n",
      "2      6976                 t                    1             Roslindale   \n",
      "3   1436513                 f                    1             Roslindale   \n",
      "4   7651065                 t                    1             Roslindale   \n",
      "\n",
      "    latitude  longitude property_type        room_type  accommodates  \\\n",
      "0  42.282619 -71.133068         House  Entire home/apt             4   \n",
      "1  42.286241 -71.134374     Apartment     Private room             2   \n",
      "2  42.292438 -71.135765     Apartment     Private room             2   \n",
      "3  42.281106 -71.121021         House     Private room             4   \n",
      "4  42.284512 -71.136258         House     Private room             2   \n",
      "\n",
      "   bathrooms  bedrooms  beds  \\\n",
      "0        1.5       2.0   3.0   \n",
      "1        1.0       1.0   1.0   \n",
      "2        1.0       1.0   1.0   \n",
      "3        1.0       1.0   2.0   \n",
      "4        1.5       1.0   2.0   \n",
      "\n",
      "                                           amenities    price  \\\n",
      "0  {TV,\"Wireless Internet\",Kitchen,\"Free Parking ...  $250.00   \n",
      "1  {TV,Internet,\"Wireless Internet\",\"Air Conditio...   $65.00   \n",
      "2  {TV,\"Cable TV\",\"Wireless Internet\",\"Air Condit...   $65.00   \n",
      "3  {TV,Internet,\"Wireless Internet\",\"Air Conditio...   $75.00   \n",
      "4  {Internet,\"Wireless Internet\",\"Air Conditionin...   $79.00   \n",
      "\n",
      "   availability_30  availability_60  availability_90  availability_365  \\\n",
      "0                0                0                0                 0   \n",
      "1               26               54               84               359   \n",
      "2               19               46               61               319   \n",
      "3                6               16               26                98   \n",
      "4               13               34               59               334   \n",
      "\n",
      "   review_scores_rating instant_bookable  \n",
      "0                   NaN                f  \n",
      "1                  94.0                t  \n",
      "2                  98.0                f  \n",
      "3                 100.0                f  \n",
      "4                  99.0                f  \n"
     ]
    }
   ],
   "execution_count": 2
  },
  {
   "metadata": {
    "ExecuteTime": {
     "end_time": "2025-10-20T02:21:48.930617Z",
     "start_time": "2025-10-20T02:21:48.928703Z"
    }
   },
   "cell_type": "code",
   "source": [
    "#Make each column name easy to read\n",
    "listings.columns = (listings.columns.str.strip().str.lower().str.replace(r\"\\s+\", \"_\"))"
   ],
   "id": "4fe7305fcad6f377",
   "outputs": [],
   "execution_count": 3
  },
  {
   "metadata": {
    "ExecuteTime": {
     "end_time": "2025-10-20T02:21:48.945691Z",
     "start_time": "2025-10-20T02:21:48.938039Z"
    }
   },
   "cell_type": "code",
   "source": [
    "#Clean up our price column, convert it to a float\n",
    "listings[\"price\"] = (listings[\"price\"]\n",
    "                     .astype(str).\n",
    "                     str.replace(\",\", \"\").\n",
    "                     str.replace(\"$\", \"\").\n",
    "                     replace(\"\", np.nan)\n",
    "                     .astype(float))\n",
    "print(listings[\"price\"].info())\n",
    "\n",
    "#keep only the prices that make sense\n",
    "listings = listings.dropna(subset=[\"price\"])\n",
    "listings = listings[listings[\"price\"] > 0]\n",
    "\n",
    "#remidner for tmrw that after were done cleanign we create this as a cleanedCSV then its time to combine the three cleaned csvs into a single big where our operatiosn will be preformed yayayaya"
   ],
   "id": "99ed8903f4bccce6",
   "outputs": [
    {
     "name": "stdout",
     "output_type": "stream",
     "text": [
      "<class 'pandas.core.series.Series'>\n",
      "RangeIndex: 3585 entries, 0 to 3584\n",
      "Series name: price\n",
      "Non-Null Count  Dtype  \n",
      "--------------  -----  \n",
      "3585 non-null   float64\n",
      "dtypes: float64(1)\n",
      "memory usage: 28.1 KB\n",
      "None\n"
     ]
    }
   ],
   "execution_count": 4
  },
  {
   "metadata": {
    "ExecuteTime": {
     "end_time": "2025-10-20T02:21:48.970415Z",
     "start_time": "2025-10-20T02:21:48.950720Z"
    }
   },
   "cell_type": "code",
   "source": [
    "#Lets count how amenities are listed for each airbnb\n",
    "listings[\"amenities_count\"] = (\n",
    "    listings[\"amenities\"]\n",
    "        .astype(str)\n",
    "        .str.replace(r\"^\\[|\\]\", \"\", regex=True)\n",
    "        .apply(lambda s: len([x for x in s.split(\",\") if x.strip()]) if s not in [\"nan\", \"None\", \"none\"] else 0)\n",
    ")\n",
    "print(listings[\"amenities_count\"].info())\n",
    "print(listings[[\"amenities\", \"amenities_count\"]].head())"
   ],
   "id": "58a3308dd6284178",
   "outputs": [
    {
     "name": "stdout",
     "output_type": "stream",
     "text": [
      "<class 'pandas.core.series.Series'>\n",
      "RangeIndex: 3585 entries, 0 to 3584\n",
      "Series name: amenities_count\n",
      "Non-Null Count  Dtype\n",
      "--------------  -----\n",
      "3585 non-null   int64\n",
      "dtypes: int64(1)\n",
      "memory usage: 28.1 KB\n",
      "None\n",
      "                                           amenities  amenities_count\n",
      "0  {TV,\"Wireless Internet\",Kitchen,\"Free Parking ...               15\n",
      "1  {TV,Internet,\"Wireless Internet\",\"Air Conditio...               21\n",
      "2  {TV,\"Cable TV\",\"Wireless Internet\",\"Air Condit...               18\n",
      "3  {TV,Internet,\"Wireless Internet\",\"Air Conditio...               23\n",
      "4  {Internet,\"Wireless Internet\",\"Air Conditionin...               14\n"
     ]
    }
   ],
   "execution_count": 5
  },
  {
   "metadata": {
    "ExecuteTime": {
     "end_time": "2025-10-20T02:21:48.981537Z",
     "start_time": "2025-10-20T02:21:48.976168Z"
    }
   },
   "cell_type": "code",
   "source": [
    "#the is_superhost and instant_bookable columns both arent booleans, lets make them booleans\n",
    "listings[\"host_is_superhost\"] = listings[\"host_is_superhost\"].map({\n",
    "    't' : True,\n",
    "    'f' : False\n",
    "})\n",
    "listings[\"instant_bookable\"] = listings[\"instant_bookable\"].map({\n",
    "    't' : True,\n",
    "    'f' : False\n",
    "})\n",
    "\n",
    "print(listings[[\"host_is_superhost\", \"instant_bookable\"]].info())"
   ],
   "id": "15e7c31dd9d2c0dc",
   "outputs": [
    {
     "name": "stdout",
     "output_type": "stream",
     "text": [
      "<class 'pandas.core.frame.DataFrame'>\n",
      "RangeIndex: 3585 entries, 0 to 3584\n",
      "Data columns (total 2 columns):\n",
      " #   Column             Non-Null Count  Dtype\n",
      "---  ------             --------------  -----\n",
      " 0   host_is_superhost  3585 non-null   bool \n",
      " 1   instant_bookable   3585 non-null   bool \n",
      "dtypes: bool(2)\n",
      "memory usage: 7.1 KB\n",
      "None\n"
     ]
    }
   ],
   "execution_count": 6
  },
  {
   "metadata": {
    "ExecuteTime": {
     "end_time": "2025-10-20T02:21:48.987952Z",
     "start_time": "2025-10-20T02:21:48.984989Z"
    }
   },
   "cell_type": "code",
   "source": [
    "#before we get to the end lets make sure all of our columns that contain numeric values are actually all numeric values\n",
    "num_cols = [\n",
    "    \"accommodates\", \"bedrooms\", \"beds\", \"latitude\", \"longitude\",\n",
    "    \"host_listings_count\", \"review_scores_rating\",\n",
    "    \"availability_30\", \"availability_60\", \"availability_90\", \"availability_365\"\n",
    "]\n",
    "\n",
    "for c in num_cols:\n",
    "    if c in listings.columns:\n",
    "        listings[c] = pd.to_numeric(listings[c], errors=\"coerce\")"
   ],
   "id": "9c7c722a3e74f682",
   "outputs": [],
   "execution_count": 7
  },
  {
   "metadata": {
    "ExecuteTime": {
     "end_time": "2025-10-20T02:21:48.995593Z",
     "start_time": "2025-10-20T02:21:48.993040Z"
    }
   },
   "cell_type": "code",
   "source": [
    "#remove any duplicate listing ids\n",
    "listings = listings.drop_duplicates(subset=[\"id\"], keep=\"last\")"
   ],
   "id": "8f685ca56f10f62b",
   "outputs": [],
   "execution_count": 8
  },
  {
   "metadata": {
    "ExecuteTime": {
     "end_time": "2025-10-20T02:21:49.003623Z",
     "start_time": "2025-10-20T02:21:48.998440Z"
    }
   },
   "cell_type": "code",
   "source": [
    "#lets sort our airbnb prices into L / M / H labels using mean bin smoothing!!!!\n",
    "\n",
    "# Sort prices and split into 3 equal bins\n",
    "sorted_price = listings['price'].sort_values().reset_index(drop=True)\n",
    "bins = np.array_split(sorted_price.to_numpy(), 3)\n",
    "\n",
    "# Compute mean price per bin\n",
    "bin_means = [float(b.mean()) for b in bins]\n",
    "\n",
    "# Define bin edges\n",
    "bin_edges = [-np.inf, bins[0].max(), bins[1].max(), np.inf]\n",
    "\n",
    "# Assign categorical labels\n",
    "labels = ['Budget', 'Average', 'Expensive']\n",
    "listings['price_category'] = pd.cut(\n",
    "    x=listings['price'],\n",
    "    bins=bin_edges,\n",
    "    labels=labels,\n",
    "    include_lowest=True\n",
    ")"
   ],
   "id": "5609601e366631ad",
   "outputs": [],
   "execution_count": 9
  },
  {
   "metadata": {
    "ExecuteTime": {
     "end_time": "2025-10-20T02:21:49.031711Z",
     "start_time": "2025-10-20T02:21:49.007732Z"
    }
   },
   "cell_type": "code",
   "source": [
    "listings = listings.dropna()\n",
    "\n",
    "listings.to_csv(\"../cleanedData/cleanedListings.csv\", index=False)"
   ],
   "id": "3a4b545fb340ca3f",
   "outputs": [],
   "execution_count": 10
  }
 ],
 "metadata": {
  "kernelspec": {
   "display_name": "Python 3",
   "language": "python",
   "name": "python3"
  },
  "language_info": {
   "codemirror_mode": {
    "name": "ipython",
    "version": 2
   },
   "file_extension": ".py",
   "mimetype": "text/x-python",
   "name": "python",
   "nbconvert_exporter": "python",
   "pygments_lexer": "ipython2",
   "version": "2.7.6"
  }
 },
 "nbformat": 4,
 "nbformat_minor": 5
}
