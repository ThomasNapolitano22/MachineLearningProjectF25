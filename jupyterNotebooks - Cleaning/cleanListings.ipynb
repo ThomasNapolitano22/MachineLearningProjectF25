{
 "cells": [
  {
   "cell_type": "code",
   "id": "initial_id",
   "metadata": {
    "collapsed": true,
    "ExecuteTime": {
     "end_time": "2025-10-18T05:51:23.534437Z",
     "start_time": "2025-10-18T05:51:23.532053Z"
    }
   },
   "source": [
    "import pandas as pd\n",
    "import numpy as np"
   ],
   "outputs": [],
   "execution_count": 59
  },
  {
   "metadata": {
    "ExecuteTime": {
     "end_time": "2025-10-18T05:51:23.713028Z",
     "start_time": "2025-10-18T05:51:23.550707Z"
    }
   },
   "cell_type": "code",
   "source": [
    "listings = pd.read_csv('../originalData/listings.csv')\n",
    "key_columns = [\n",
    "    \"id\", \"price\", \"room_type\", \"property_type\", \"accommodates\",\n",
    "    \"bedrooms\", \"beds\", \"bathrooms_text\", \"amenities\",\n",
    "    \"neighbourhood_cleansed\", \"latitude\", \"longitude\",\n",
    "    \"host_is_superhost\", \"host_listings_count\", \"instant_bookable\",\n",
    "    \"review_scores_rating\",\n",
    "    \"availability_30\", \"availability_60\", \"availability_90\", \"availability_365\"\n",
    "    ]\n",
    "\n",
    "listings = pd.read_csv(\n",
    "    '../originalData/listings.csv',\n",
    "    usecols=lambda col: col in key_columns\n",
    ")\n",
    "\n",
    "print(listings.head())"
   ],
   "id": "c29675e46c8d867a",
   "outputs": [
    {
     "name": "stdout",
     "output_type": "stream",
     "text": [
      "         id host_is_superhost  host_listings_count neighbourhood_cleansed  \\\n",
      "0  12147973                 f                    1             Roslindale   \n",
      "1   3075044                 f                    1             Roslindale   \n",
      "2      6976                 t                    1             Roslindale   \n",
      "3   1436513                 f                    1             Roslindale   \n",
      "4   7651065                 t                    1             Roslindale   \n",
      "\n",
      "    latitude  longitude property_type        room_type  accommodates  \\\n",
      "0  42.282619 -71.133068         House  Entire home/apt             4   \n",
      "1  42.286241 -71.134374     Apartment     Private room             2   \n",
      "2  42.292438 -71.135765     Apartment     Private room             2   \n",
      "3  42.281106 -71.121021         House     Private room             4   \n",
      "4  42.284512 -71.136258         House     Private room             2   \n",
      "\n",
      "   bedrooms  beds                                          amenities    price  \\\n",
      "0       2.0   3.0  {TV,\"Wireless Internet\",Kitchen,\"Free Parking ...  $250.00   \n",
      "1       1.0   1.0  {TV,Internet,\"Wireless Internet\",\"Air Conditio...   $65.00   \n",
      "2       1.0   1.0  {TV,\"Cable TV\",\"Wireless Internet\",\"Air Condit...   $65.00   \n",
      "3       1.0   2.0  {TV,Internet,\"Wireless Internet\",\"Air Conditio...   $75.00   \n",
      "4       1.0   2.0  {Internet,\"Wireless Internet\",\"Air Conditionin...   $79.00   \n",
      "\n",
      "   availability_30  availability_60  availability_90  availability_365  \\\n",
      "0                0                0                0                 0   \n",
      "1               26               54               84               359   \n",
      "2               19               46               61               319   \n",
      "3                6               16               26                98   \n",
      "4               13               34               59               334   \n",
      "\n",
      "   review_scores_rating instant_bookable  \n",
      "0                   NaN                f  \n",
      "1                  94.0                t  \n",
      "2                  98.0                f  \n",
      "3                 100.0                f  \n",
      "4                  99.0                f  \n"
     ]
    }
   ],
   "execution_count": 60
  },
  {
   "metadata": {
    "ExecuteTime": {
     "end_time": "2025-10-18T05:51:23.721223Z",
     "start_time": "2025-10-18T05:51:23.719757Z"
    }
   },
   "cell_type": "code",
   "source": [
    "#Make each column name easy to read\n",
    "listings.columns = (listings.columns.str.strip().str.lower().str.replace(r\"\\s+\", \"_\"))"
   ],
   "id": "4fe7305fcad6f377",
   "outputs": [],
   "execution_count": 61
  },
  {
   "metadata": {
    "ExecuteTime": {
     "end_time": "2025-10-18T05:51:23.738308Z",
     "start_time": "2025-10-18T05:51:23.727774Z"
    }
   },
   "cell_type": "code",
   "source": [
    "#Clean up our price column, convert it to a float\n",
    "listings[\"price\"] = (listings[\"price\"]\n",
    "                     .astype(str).\n",
    "                     str.replace(\",\", \"\").\n",
    "                     str.replace(\"$\", \"\").\n",
    "                     replace(\"\", np.nan)\n",
    "                     .astype(float))\n",
    "print(listings[\"price\"].info())\n",
    "\n",
    "#keep only the prices that make sense\n",
    "listings = listings.dropna(subset=[\"price\"])\n",
    "listings = listings[listings[\"price\"] > 0]\n",
    "\n",
    "#remidner for tmrw that after were done cleanign we create this as a cleanedCSV then its time to combine the three cleaned csvs into a single big where our operatiosn will be preformed yayayaya"
   ],
   "id": "99ed8903f4bccce6",
   "outputs": [
    {
     "name": "stdout",
     "output_type": "stream",
     "text": [
      "<class 'pandas.core.series.Series'>\n",
      "RangeIndex: 3585 entries, 0 to 3584\n",
      "Series name: price\n",
      "Non-Null Count  Dtype  \n",
      "--------------  -----  \n",
      "3585 non-null   float64\n",
      "dtypes: float64(1)\n",
      "memory usage: 28.1 KB\n",
      "None\n",
      "<class 'pandas.core.series.Series'>\n",
      "RangeIndex: 3585 entries, 0 to 3584\n",
      "Series name: price\n",
      "Non-Null Count  Dtype  \n",
      "--------------  -----  \n",
      "3585 non-null   float64\n",
      "dtypes: float64(1)\n",
      "memory usage: 28.1 KB\n",
      "None\n"
     ]
    }
   ],
   "execution_count": 62
  }
 ],
 "metadata": {
  "kernelspec": {
   "display_name": "Python 3",
   "language": "python",
   "name": "python3"
  },
  "language_info": {
   "codemirror_mode": {
    "name": "ipython",
    "version": 2
   },
   "file_extension": ".py",
   "mimetype": "text/x-python",
   "name": "python",
   "nbconvert_exporter": "python",
   "pygments_lexer": "ipython2",
   "version": "2.7.6"
  }
 },
 "nbformat": 4,
 "nbformat_minor": 5
}
