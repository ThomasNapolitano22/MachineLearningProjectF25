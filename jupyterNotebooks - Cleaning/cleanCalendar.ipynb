{
 "cells": [
  {
   "cell_type": "code",
   "id": "initial_id",
   "metadata": {
    "collapsed": true,
    "ExecuteTime": {
     "end_time": "2025-10-17T01:12:44.831300Z",
     "start_time": "2025-10-17T01:12:44.825916Z"
    }
   },
   "source": "import pandas as pd",
   "outputs": [],
   "execution_count": 20
  },
  {
   "metadata": {
    "ExecuteTime": {
     "end_time": "2025-10-17T01:12:45.144256Z",
     "start_time": "2025-10-17T01:12:44.857670Z"
    }
   },
   "cell_type": "code",
   "source": [
    "calendar = pd.read_csv('../originalData/calendar.csv')\n",
    "print(calendar.info())\n",
    "print(calendar.head())\n",
    "#date is an object type, can we make it datetime?\n",
    "#available is an object type, can we make it boolean?\n",
    "#price is an object type, can we make it integer?\n"
   ],
   "id": "4c4be35c939230b0",
   "outputs": [
    {
     "name": "stdout",
     "output_type": "stream",
     "text": [
      "<class 'pandas.core.frame.DataFrame'>\n",
      "RangeIndex: 1308890 entries, 0 to 1308889\n",
      "Data columns (total 4 columns):\n",
      " #   Column      Non-Null Count    Dtype \n",
      "---  ------      --------------    ----- \n",
      " 0   listing_id  1308890 non-null  int64 \n",
      " 1   date        1308890 non-null  object\n",
      " 2   available   1308890 non-null  object\n",
      " 3   price       643037 non-null   object\n",
      "dtypes: int64(1), object(3)\n",
      "memory usage: 39.9+ MB\n",
      "None\n",
      "   listing_id        date available price\n",
      "0    12147973  2017-09-05         f   NaN\n",
      "1    12147973  2017-09-04         f   NaN\n",
      "2    12147973  2017-09-03         f   NaN\n",
      "3    12147973  2017-09-02         f   NaN\n",
      "4    12147973  2017-09-01         f   NaN\n"
     ]
    }
   ],
   "execution_count": 21
  },
  {
   "metadata": {
    "ExecuteTime": {
     "end_time": "2025-10-17T01:12:45.267350Z",
     "start_time": "2025-10-17T01:12:45.154228Z"
    }
   },
   "cell_type": "code",
   "source": [
    "calendar[\"date\"] = pd.to_datetime(calendar[\"date\"])\n",
    "print(calendar[\"date\"].info())\n",
    "print(calendar[\"date\"].head())"
   ],
   "id": "c89409a8af43fd2b",
   "outputs": [
    {
     "name": "stdout",
     "output_type": "stream",
     "text": [
      "<class 'pandas.core.series.Series'>\n",
      "RangeIndex: 1308890 entries, 0 to 1308889\n",
      "Series name: date\n",
      "Non-Null Count    Dtype         \n",
      "--------------    -----         \n",
      "1308890 non-null  datetime64[ns]\n",
      "dtypes: datetime64[ns](1)\n",
      "memory usage: 10.0 MB\n",
      "None\n",
      "0   2017-09-05\n",
      "1   2017-09-04\n",
      "2   2017-09-03\n",
      "3   2017-09-02\n",
      "4   2017-09-01\n",
      "Name: date, dtype: datetime64[ns]\n"
     ]
    }
   ],
   "execution_count": 22
  },
  {
   "metadata": {
    "ExecuteTime": {
     "end_time": "2025-10-17T01:12:45.297085Z",
     "start_time": "2025-10-17T01:12:45.273656Z"
    }
   },
   "cell_type": "code",
   "source": [
    "calendar[\"available\"] = calendar[\"available\"].map({\n",
    "    't' : True,\n",
    "    'f' : False\n",
    "})\n",
    "print(calendar[\"available\"].info())\n",
    "print(calendar[\"available\"].head())"
   ],
   "id": "84c12e3f1427a15e",
   "outputs": [
    {
     "name": "stdout",
     "output_type": "stream",
     "text": [
      "<class 'pandas.core.series.Series'>\n",
      "RangeIndex: 1308890 entries, 0 to 1308889\n",
      "Series name: available\n",
      "Non-Null Count    Dtype\n",
      "--------------    -----\n",
      "1308890 non-null  bool \n",
      "dtypes: bool(1)\n",
      "memory usage: 1.2 MB\n",
      "None\n",
      "0    False\n",
      "1    False\n",
      "2    False\n",
      "3    False\n",
      "4    False\n",
      "Name: available, dtype: bool\n"
     ]
    }
   ],
   "execution_count": 23
  },
  {
   "metadata": {
    "ExecuteTime": {
     "end_time": "2025-10-17T01:12:45.542665Z",
     "start_time": "2025-10-17T01:12:45.302951Z"
    }
   },
   "cell_type": "code",
   "source": [
    "calendar[\"price\"] = (\n",
    "    calendar[\"price\"]\n",
    "        .str.replace('$', '')\n",
    "        .str.replace(',', ''))\n",
    "print(calendar[\"price\"].info())\n",
    "calendar[\"price\"] = calendar[\"price\"].astype(float)\n",
    "print(calendar[\"price\"].info())\n"
   ],
   "id": "9b5e6ea67b4c1af8",
   "outputs": [
    {
     "name": "stdout",
     "output_type": "stream",
     "text": [
      "<class 'pandas.core.series.Series'>\n",
      "RangeIndex: 1308890 entries, 0 to 1308889\n",
      "Series name: price\n",
      "Non-Null Count   Dtype \n",
      "--------------   ----- \n",
      "643037 non-null  object\n",
      "dtypes: object(1)\n",
      "memory usage: 10.0+ MB\n",
      "None\n",
      "<class 'pandas.core.series.Series'>\n",
      "RangeIndex: 1308890 entries, 0 to 1308889\n",
      "Series name: price\n",
      "Non-Null Count   Dtype  \n",
      "--------------   -----  \n",
      "643037 non-null  float64\n",
      "dtypes: float64(1)\n",
      "memory usage: 10.0 MB\n",
      "None\n"
     ]
    }
   ],
   "execution_count": 24
  },
  {
   "metadata": {
    "ExecuteTime": {
     "end_time": "2025-10-17T01:12:47.007686Z",
     "start_time": "2025-10-17T01:12:45.556092Z"
    }
   },
   "cell_type": "code",
   "source": [
    "calendar = calendar.drop_duplicates(subset=[\"listing_id\", \"date\"])\n",
    "calendar.to_csv(\"../cleanedData/cleanedCalendar.csv\", index=False)"
   ],
   "id": "93aa1c5980aa287c",
   "outputs": [],
   "execution_count": 25
  }
 ],
 "metadata": {
  "kernelspec": {
   "display_name": "Python 3",
   "language": "python",
   "name": "python3"
  },
  "language_info": {
   "codemirror_mode": {
    "name": "ipython",
    "version": 2
   },
   "file_extension": ".py",
   "mimetype": "text/x-python",
   "name": "python",
   "nbconvert_exporter": "python",
   "pygments_lexer": "ipython2",
   "version": "2.7.6"
  }
 },
 "nbformat": 4,
 "nbformat_minor": 5
}
